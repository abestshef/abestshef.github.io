{
 "cells": [
  {
   "cell_type": "markdown",
   "id": "bffd1008",
   "metadata": {},
   "source": [
    "# MAS377 Mathematical Biology\n",
    "\n",
    "*All models are wrong, but some are in this module*\n",
    "\n",
    "Dr. Alex Best - Hicks G27b - <a.best@shef.ac.uk>"
   ]
  },
  {
   "cell_type": "markdown",
   "id": "28c54127",
   "metadata": {},
   "source": [
    "# Introduction to the module\n",
    "\n",
    "Welcome to MAS377 Mathematical Biology. Below are some key details about the module:\n",
    "\n",
    "* We have two in-person lectures a week: \n",
    "    * Tuesdays 11am - Hicks LT10\n",
    "    * Wednesdays 10am - Hicks LT5\n",
    "* For two lectures we will instead have a computer lab:\n",
    "    * Wednesday week 5 - Alfred Denny Building A04\n",
    "    * Tuesday week 10 - Alfred Denny Building A04\n",
    "* Pre-recorded videos will also be made available should you not be able to attend a lecture, and/or for revision.\n",
    "* Assessment is 80% exam and 20% coursework.\n",
    "* The coursework component takes place in week 6, with a due date of Monday week 8.\n",
    "* Office hours are Tuesdays 12pm, either online or in-person as you prefer. **You are strongly encouraged to book office hour slots using my Google Calendar**.\n",
    "* Notes are provided as HTML and PDF. \n",
    "* You are encouraged to engage in **active learning**. At points in the notes you will see,\n",
    "\n",
    "`````{admonition} Have a go\n",
    ":class: tip\n",
    "At these points you will be asked to complete some workings in the lecture and/or explore a model with provided interactive python code (you will need to be logged into your GMail account to use this). \n",
    "`````\n",
    "* I hope for there to be a welcoming and inclusive environment in our lectures. If you feel you are not fully engaged in the classes for any reason, please come and see me during an office hour.\n",
    "\n",
    "\n",
    "## What is the course about?\n",
    "\n",
    "Put simply, mathematical biology means appplying tools from mathematics and statistics to questions in biology. The intersection of two very large areas of science obviously results in a pretty big field of research. In this module we will cover topics from a range of areas of biology. However, we will primarily focus on one set of mathematical tools: ordinary differential equations. We will *construct* models of biological systems, *apply* mathematical techniques you have met in earlier modules to gain mathematical results, and then try to *interpret* what these results mean in terms of the underlying biology. The famous saying goes, \"*All models are wrong, but some are useful*\" (with a slightly tweaked version providing the subtitle of the module, with thanks to Acaccia Ackles on Twitter for the inspiration). We should recognise the the models we construct always represent one particular view of a problem, and that developing models from other, diverse perspectives may lead us to greater understanding about the problem."
   ]
  },
  {
   "cell_type": "code",
   "execution_count": null,
   "id": "e032a6fa",
   "metadata": {},
   "outputs": [],
   "source": []
  }
 ],
 "metadata": {
  "kernelspec": {
   "display_name": "Python 3",
   "language": "python",
   "name": "python3"
  },
  "language_info": {
   "codemirror_mode": {
    "name": "ipython",
    "version": 3
   },
   "file_extension": ".py",
   "mimetype": "text/x-python",
   "name": "python",
   "nbconvert_exporter": "python",
   "pygments_lexer": "ipython3",
   "version": "3.6.4"
  }
 },
 "nbformat": 4,
 "nbformat_minor": 5
}
