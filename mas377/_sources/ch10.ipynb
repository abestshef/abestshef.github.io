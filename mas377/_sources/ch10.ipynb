{
 "cells": [
  {
   "cell_type": "markdown",
   "id": "b489347b",
   "metadata": {},
   "source": [
    "# 10 - Computer lab\n",
    "\n",
    "In this session we will explore epidemic models in more detail using some provided python code. Link to follow."
   ]
  }
 ],
 "metadata": {
  "kernelspec": {
   "display_name": "Python 3",
   "language": "python",
   "name": "python3"
  },
  "language_info": {
   "codemirror_mode": {
    "name": "ipython",
    "version": 3
   },
   "file_extension": ".py",
   "mimetype": "text/x-python",
   "name": "python",
   "nbconvert_exporter": "python",
   "pygments_lexer": "ipython3",
   "version": "3.6.4"
  }
 },
 "nbformat": 4,
 "nbformat_minor": 5
}
