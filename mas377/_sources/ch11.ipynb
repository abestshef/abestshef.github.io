{
 "cells": [
  {
   "cell_type": "markdown",
   "id": "f3e19e69",
   "metadata": {},
   "source": [
    "## 11-12 Project Week\n",
    "\n",
    "In weeks 6 and 7 you will complete a project that is worth 20% of your module mark. There are two good reasons for setting this project assessment:\n",
    "\n",
    "1. I can think of few examples where you will find yourself doing a job where you are asked to conduct mathematics work (or any work for that matter) in an exam-style setting. It is **much** more common for you to be set project work that you should conduct over days or weeks and return a written or oral report. Project work is absolutely the day-to-day life of a mathematical biologist, and so it is a good experience for you to have.\n",
    "2. Exam-based assessments will only play to the strengths of, and so reward, some learners. It's important for us to ensure that we are providing all students with a chance to shine by offering different assessment styles.\n",
    "\n",
    "Below I describe an infectious disease with written information. I will also present this in the lecture and as a video. Your task is to use this information to build suitable mathematical models, analyse them with the tools you have seen used so far in the module, and **produce a written report of no more than 3 pages that shows your workings, results and conclusions**. As well as the standard techniques for analysing models that you have seen in the lectures, you might consider including additional details such as the value of $R_0$, how varying any of the parameters would alter the qualitative behaviour, and any extensions you feel could be reasonably made to the model (while staying within the page limit).\n",
    "\n",
    "The report may be submitted in any of the following formats:\n",
    "\n",
    "* Handwritten report that is captured using Microsoft Lens or similar to convert to a PDF.\n",
    "* A PDF created using Microsoft Word or LaTeX.\n",
    "* An HTML page created using Markdown.\n",
    "\n",
    "You may discuss the work with each other but you must each produce your own report and you should be careful not to produce an identical report with someone you have worked with.\n",
    "\n",
    "You are allowed to supplement your analysis with plots made by using numerical ODE solvers in a programming language such as Python, Matlab, R, etc. Any such plots should be in addition to the core mathematical/analysis material, and not as a replacement for it. *Since some of you have less experience using such software, for fairness I have provided some basic code that you can edit to run such simulations, and will give a short guide of how to use the code both in the lecture and a separate video.*\n",
    "\n",
    "## Description of the infectious disease\n",
    "A new infectious disease has been detected by the UK Health Security Agency. The population of interest is that of Sheffield, with a total population size of approximately 500,000. The infection is spread through direct contact between susceptible and infected individuals. The value of the transmission parameter, $\\beta$ is estimated to be $10^{-6}$. Infected individuals do not suffer any increased mortality, and can recover to being immune at a rate of $\\gamma=1/10$. However, immunity is not permanent, and immune individuals return to being susceptible at a rate of $\\omega=1/40$. The time-period of interest is sufficiently small that we can neglect births and deaths amongst the population. Initial numbers of infection are small, with 10 cases identified so far, and there is no pre-existing immunity in any members of the population. No vaccine yet exists so should not be included in your primary model. However, a vaccine is in development that would prevent 80% of infections, and you should comment on how effective this would be.\n",
    "\n",
    "\n"
   ]
  },
  {
   "cell_type": "code",
   "execution_count": null,
   "id": "b8b2687d",
   "metadata": {},
   "outputs": [],
   "source": []
  }
 ],
 "metadata": {
  "kernelspec": {
   "display_name": "Python 3",
   "language": "python",
   "name": "python3"
  },
  "language_info": {
   "codemirror_mode": {
    "name": "ipython",
    "version": 3
   },
   "file_extension": ".py",
   "mimetype": "text/x-python",
   "name": "python",
   "nbconvert_exporter": "python",
   "pygments_lexer": "ipython3",
   "version": "3.6.4"
  }
 },
 "nbformat": 4,
 "nbformat_minor": 5
}
